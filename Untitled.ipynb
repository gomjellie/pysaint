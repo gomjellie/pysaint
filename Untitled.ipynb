{
 "cells": [
  {
   "cell_type": "code",
   "execution_count": 1,
   "metadata": {},
   "outputs": [],
   "source": [
    "from pysaint import Saint"
   ]
  },
  {
   "cell_type": "code",
   "execution_count": 4,
   "metadata": {},
   "outputs": [],
   "source": [
    "import copy\n",
    "from collections import defaultdict\n",
    "\n",
    "\n",
    "def liberal_arts(year_range=[], semesters=[]):\n",
    "    \"\"\"\n",
    "    교양필수 과목들을 학기 단위로 묶어서 반환한다.\n",
    "    :param year_range:\n",
    "    list or tuple\n",
    "    example )\n",
    "            [2013, 2014, 2015, 2016, 2017, 2018]\n",
    "            or\n",
    "            (2017, 2018)\n",
    "    :param semesters:\n",
    "    list or tuple\n",
    "    example )\n",
    "            ['1 학기', '여름학기', '2 학기', '겨울학기']\n",
    "            or\n",
    "            ('1 학기')\n",
    "    :return:\n",
    "    \"\"\"\n",
    "    ret = {year: {} for year in year_range}\n",
    "    saint = Saint()\n",
    "    saint.select_course_section('교양필수')\n",
    "\n",
    "    def _get_whole_course(year, semester):\n",
    "        print('{} {}'.format(year, semester))\n",
    "        saint.select_year(year)\n",
    "        saint.select_semester(semester)\n",
    "        liberal_map = saint.get_liberal_arts_map()\n",
    "        course_map = copy.deepcopy(liberal_map)\n",
    "\n",
    "        for grade in liberal_map:\n",
    "            course_map[grade] = {course_name: {} for course_name in liberal_map[grade]}\n",
    "\n",
    "        for grade in liberal_map:\n",
    "            for course_name in liberal_map[grade]:\n",
    "                if course_name != '':\n",
    "                    course_map[grade][course_name] = saint.select_on_liberal_arts(grade, course_name)\n",
    "\n",
    "        return course_map\n",
    "\n",
    "    for year in year_range:\n",
    "        for semester in semesters:\n",
    "            course_bunch = _get_whole_course(year, semester)\n",
    "            ret[year][semester] = course_bunch\n",
    "\n",
    "    return ret\n"
   ]
  },
  {
   "cell_type": "code",
   "execution_count": 5,
   "metadata": {},
   "outputs": [
    {
     "name": "stdout",
     "output_type": "stream",
     "text": [
      "2015 1 학기\n"
     ]
    }
   ],
   "source": [
    "res = liberal_arts(year_range=[2015], semesters=['1 학기'])"
   ]
  },
  {
   "cell_type": "code",
   "execution_count": 11,
   "metadata": {},
   "outputs": [
    {
     "data": {
      "text/plain": [
       "dict_keys(['전체학년', '1학년', '2학년', '3학년', '4학년', '5학년'])"
      ]
     },
     "execution_count": 11,
     "metadata": {},
     "output_type": "execute_result"
    }
   ],
   "source": [
    "res[2015]['1 학기'].keys()"
   ]
  },
  {
   "cell_type": "code",
   "execution_count": 19,
   "metadata": {},
   "outputs": [
    {
     "data": {
      "text/plain": [
       "dict_keys(['계획', '이수구분(주전공)', '이수구분(다전공)', '공학인증', '교과영역', '과목번호', '과목명', '분반', '교수명', '개설학과', '시간/학점(설계)', '수강인원', '여석', '강의시간(강의실)', '수강대상'])"
      ]
     },
     "execution_count": 19,
     "metadata": {},
     "output_type": "execute_result"
    }
   ],
   "source": [
    "res[2015]['1 학기']['전체학년']['CHAPEL'][0].keys()"
   ]
  },
  {
   "cell_type": "code",
   "execution_count": null,
   "metadata": {},
   "outputs": [],
   "source": []
  }
 ],
 "metadata": {
  "kernelspec": {
   "display_name": "Python 3",
   "language": "python",
   "name": "python3"
  },
  "language_info": {
   "codemirror_mode": {
    "name": "ipython",
    "version": 3
   },
   "file_extension": ".py",
   "mimetype": "text/x-python",
   "name": "python",
   "nbconvert_exporter": "python",
   "pygments_lexer": "ipython3",
   "version": "3.6.5"
  }
 },
 "nbformat": 4,
 "nbformat_minor": 2
}
